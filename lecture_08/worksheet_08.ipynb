{
 "cells": [
  {
   "attachments": {},
   "cell_type": "markdown",
   "metadata": {},
   "source": [
    "# Worksheet 08\n",
    "\n",
    "Name: Jin Young Bang\n",
    "\n",
    "UID: U26738680\n",
    "\n",
    "### Topics\n",
    "\n",
    "- Soft Clustering\n",
    "- Clustering Aggregation\n",
    "\n",
    "### Probability Review\n",
    "\n",
    "Read through [the following](https://medium.com/@gallettilance/overview-of-probability-3272b72c82c8)\n",
    "\n",
    "### Soft Clustering\n",
    "\n",
    "We generate 10 data points that come from a normal distribution with mean 5 and variance 1."
   ]
  },
  {
   "cell_type": "code",
   "execution_count": 1,
   "metadata": {},
   "outputs": [
    {
     "name": "stdout",
     "output_type": "stream",
     "text": [
      "[5.391445094733568, 3.9968437611534178, 4.273857480802641, 2.7630243884657975, 4.5235295253982555, 5.781617494797077, 4.512723447615677, 5.5532393628823655, 4.590678154158948, 4.883261377400749]\n"
     ]
    }
   ],
   "source": [
    "import random\n",
    "import numpy as np\n",
    "from sklearn.cluster import KMeans\n",
    "\n",
    "mean = 5\n",
    "stdev = 1\n",
    "\n",
    "s1 = np.random.normal(mean, stdev, 10).tolist()\n",
    "print(s1)"
   ]
  },
  {
   "cell_type": "markdown",
   "metadata": {},
   "source": [
    "a) Generate 10 more data points, this time coming from a normal distribution with mean 8 and variance 1."
   ]
  },
  {
   "cell_type": "code",
   "execution_count": 2,
   "metadata": {},
   "outputs": [
    {
     "name": "stdout",
     "output_type": "stream",
     "text": [
      "[7.399112760727791, 9.528349924633211, 9.916334338245132, 7.046710896593468, 7.211471635779335, 6.948865124393702, 6.235915246407661, 5.3673642458627056, 8.72021184178577, 6.95548312227602]\n"
     ]
    }
   ],
   "source": [
    "s2 = np.random.normal(8, 1, 10).tolist()\n",
    "print(s2)"
   ]
  },
  {
   "cell_type": "markdown",
   "metadata": {},
   "source": [
    "b) Flip a fair coin 10 times. If the coin lands on H, then pick the last data point of `c1` and remove it from `c1`, if T then pick the last data point from `c2` and remove it from `c2`. Add these 10 points to a list called `data`."
   ]
  },
  {
   "cell_type": "code",
   "execution_count": 3,
   "metadata": {},
   "outputs": [
    {
     "name": "stdout",
     "output_type": "stream",
     "text": [
      "[4.883261377400749, 4.590678154158948, 5.5532393628823655, 6.95548312227602, 4.512723447615677, 8.72021184178577, 5.781617494797077, 4.5235295253982555, 2.7630243884657975, 5.3673642458627056]\n"
     ]
    }
   ],
   "source": [
    "data = []\n",
    "for i in range(10):\n",
    "    # flip coin\n",
    "    coin_output = random.choice([0, 1])\n",
    "    if coin_output == 0:\n",
    "        p1 = s1.pop()\n",
    "        data.append(p1)\n",
    "    else:\n",
    "        p2 = s2.pop()\n",
    "        data.append(p2)\n",
    "print(data)"
   ]
  },
  {
   "cell_type": "markdown",
   "metadata": {},
   "source": [
    "c) This `data` is a Gaussian Mixture Distribution with 2 mixture components. Over the next few questions we will walk through the GMM algorithm to see if we can uncover the parameters we used to generate this data. First, please list all these parameters of the GMM that created `data` and the values we know they have."
   ]
  },
  {
   "cell_type": "markdown",
   "metadata": {},
   "source": [
    "- The number of components (K) = 2\n",
    "- Weights (1/2, 1/2)\n",
    "- Component Means (5, 8)\n",
    "- Component Variances (1, 1)"
   ]
  },
  {
   "cell_type": "markdown",
   "metadata": {},
   "source": [
    "d) Let's assume there are two mixture components (note: we could plot the data and make the observation that there are two clusters). The EM algorithm asks us to start with a random `mean_j`, `variance_j`, `P(S_j)` for each component j. One method we could use to find sensible values for these is to apply K means with k=2 here.\n",
    "\n",
    "1. the centroids would be the estimates of the `mean_j`\n",
    "2. the intra-cluster variance could be the estimate of `variance_j`\n",
    "3. the proportion of points in each cluster could be the estimate of `P(S_j)`\n",
    "\n",
    "Go through this process and list the parameter estimates it gives. Are they close or far from the true values?"
   ]
  },
  {
   "cell_type": "code",
   "execution_count": 4,
   "metadata": {},
   "outputs": [
    {
     "name": "stdout",
     "output_type": "stream",
     "text": [
      "[4.883261377400749, 4.590678154158948, 5.5532393628823655, 4.512723447615677, 5.781617494797077, 4.5235295253982555, 2.7630243884657975, 5.3673642458627056]\n",
      "[6.95548312227602, 8.72021184178577]\n",
      "P(S_1) = 0.8,  P(S_2) = 0.2\n",
      "mean_1 = 4.746929749572697,  mean_2 = 7.837847482030895\n",
      "var_1 = 0.7736618118126992,  var_2 = 10.332339292190161\n"
     ]
    },
    {
     "name": "stderr",
     "output_type": "stream",
     "text": [
      "/opt/homebrew/Cellar/jupyterlab/4.0.6/libexec/lib/python3.11/site-packages/sklearn/cluster/_kmeans.py:1416: FutureWarning: The default value of `n_init` will change from 10 to 'auto' in 1.4. Set the value of `n_init` explicitly to suppress the warning\n",
      "  super()._check_params_vs_input(X, default_n_init=10)\n"
     ]
    }
   ],
   "source": [
    "kmeans = KMeans(2, init='k-means++').fit(X=np.array(data).reshape(-1, 1))\n",
    "\n",
    "s1 = [x[0] for x in filter(lambda x: x[1] == 0, zip(data, kmeans.labels_))]\n",
    "print(s1)\n",
    "s2 = [x[0] for x in filter(lambda x: x[1] != 0, zip(data, kmeans.labels_))]\n",
    "print(s2)\n",
    "\n",
    "prob_s = [ len(s1) / (len(s1) + len(s2)) , len(s2) / (len(s1) + len(s2)) ]\n",
    "mean = [ sum(s1) / len(s1) , sum(s2) / len(s2) ]\n",
    "var = [ sum(map(lambda x : (x - mean[0])**2, s1)) / len(s1) , sum(map(lambda x : (x - mean[0])**2, s2)) / len(s2) ]\n",
    "\n",
    "print(\"P(S_1) = \" + str(prob_s[0]) + \",  P(S_2) = \" + str(prob_s[1]))\n",
    "print(\"mean_1 = \" + str(mean[0]) + \",  mean_2 = \" + str(mean[1]))\n",
    "print(\"var_1 = \" + str(var[0]) + \",  var_2 = \" + str(var[1]))"
   ]
  },
  {
   "cell_type": "markdown",
   "metadata": {},
   "source": [
    "- s1: mean=5, var=1\n",
    "- s2: mean=8, var=1\n",
    "\n",
    "The estimates for the mean are close and the variances are far from the true values"
   ]
  },
  {
   "cell_type": "markdown",
   "metadata": {},
   "source": [
    "e) For each data point, compute `P(S_j | X_i)`. Comment on which cluster you think each point belongs to based on the estimated probabilities. How does that compare to the truth?"
   ]
  },
  {
   "cell_type": "code",
   "execution_count": 7,
   "metadata": {},
   "outputs": [
    {
     "name": "stdout",
     "output_type": "stream",
     "text": [
      "point =  4.883261377400749\n",
      "probability of observing that point if it came from cluster 0 =  0.5077103634612187\n",
      "probability of observing that point if it came from cluster 1 =  0.03706424821922935\n",
      "point =  4.590678154158948\n",
      "probability of observing that point if it came from cluster 0 =  0.5052445229628681\n",
      "probability of observing that point if it came from cluster 1 =  0.03675059637730843\n",
      "point =  5.5532393628823655\n",
      "probability of observing that point if it came from cluster 0 =  0.29956988870022344\n",
      "probability of observing that point if it came from cluster 1 =  0.03767861492323982\n",
      "point =  6.95548312227602\n",
      "probability of observing that point if it came from cluster 0 =  0.008765742701520822\n",
      "probability of observing that point if it came from cluster 1 =  0.03847049546982546\n",
      "point =  4.512723447615677\n",
      "probability of observing that point if it came from cluster 0 =  0.4925599373443679\n",
      "probability of observing that point if it came from cluster 1 =  0.036662516762905085\n",
      "point =  8.72021184178577\n",
      "probability of observing that point if it came from cluster 0 =  9.661566258991965e-07\n",
      "probability of observing that point if it came from cluster 1 =  0.03847049546982546\n",
      "point =  5.781617494797077\n",
      "probability of observing that point if it came from cluster 0 =  0.2108466040808556\n",
      "probability of observing that point if it came from cluster 1 =  0.0378539643419882\n",
      "point =  4.5235295253982555\n",
      "probability of observing that point if it came from cluster 0 =  0.49459878302433824\n",
      "probability of observing that point if it came from cluster 1 =  0.0366748383769184\n",
      "point =  2.7630243884657975\n",
      "probability of observing that point if it came from cluster 0 =  0.019251816683990813\n",
      "probability of observing that point if it came from cluster 1 =  0.03422373371324752\n",
      "point =  5.3673642458627056\n",
      "probability of observing that point if it came from cluster 0 =  0.37385910660452426\n",
      "probability of observing that point if it came from cluster 1 =  0.0375229649125769\n",
      "4.883261377400749\n",
      "Probability of coming from S_1 = 0.9820764321205588\n",
      "Probability of coming from S_2 = 0.017923567879441136\n",
      "\n",
      "4.590678154158948\n",
      "Probability of coming from S_1 = 0.9821402128533563\n",
      "Probability of coming from S_2 = 0.017859787146643723\n",
      "\n",
      "5.5532393628823655\n",
      "Probability of coming from S_1 = 0.9695146519953425\n",
      "Probability of coming from S_2 = 0.03048534800465755\n",
      "\n",
      "6.95548312227602\n",
      "Probability of coming from S_1 = 0.4768301099056271\n",
      "Probability of coming from S_2 = 0.5231698900943729\n",
      "\n",
      "4.512723447615677\n",
      "Probability of coming from S_1 = 0.9817317876503207\n",
      "Probability of coming from S_2 = 0.01826821234967934\n",
      "\n",
      "8.72021184178577\n",
      "Probability of coming from S_1 = 0.00010044680389539529\n",
      "Probability of coming from S_2 = 0.9998995531961046\n",
      "\n",
      "5.781617494797077\n",
      "Probability of coming from S_1 = 0.9570446779647055\n",
      "Probability of coming from S_2 = 0.042955322035294466\n",
      "\n",
      "4.5235295253982555\n",
      "Probability of coming from S_1 = 0.9817997196552503\n",
      "Probability of coming from S_2 = 0.01820028034474978\n",
      "\n",
      "2.7630243884657975\n",
      "Probability of coming from S_1 = 0.6923183862858949\n",
      "Probability of coming from S_2 = 0.30768161371410513\n",
      "\n",
      "5.3673642458627056\n",
      "Probability of coming from S_1 = 0.9755225316960253\n",
      "Probability of coming from S_2 = 0.024477468303974688\n",
      "\n"
     ]
    }
   ],
   "source": [
    "from scipy.stats import norm\n",
    "\n",
    "prob_s0_x = [] # P(S_0 | X_i)\n",
    "prob_s1_x = [] # P(S_1 | X_i)\n",
    "prob_x = [] # P(X_i)\n",
    "\n",
    "k = 2\n",
    "\n",
    "for p in data:\n",
    "    print(\"point = \", p)\n",
    "    pdf_i = []\n",
    "\n",
    "    for j in range(k):\n",
    "        # P(X_i | S_j)\n",
    "        pdf_i.append(norm.pdf(p, mean[j], var[j]))\n",
    "        print(\"probability of observing that point if it came from cluster \" + str(j) + \" = \", pdf_i[j])\n",
    "        # P(S_j) already computed\n",
    "        prob_s[j]\n",
    "\n",
    "    # P(X_i) = P(S_0)P(X_i | S_0) + P(S_1)P(X_i | S_1)\n",
    "    prob_x = prob_s[0] * pdf_i[0] + prob_s[1] * pdf_i[1]\n",
    "\n",
    "    # P(S_j | X_i) = P(X_i | S_j)P(S_j) / P(X_i)\n",
    "    prob_s0_x.append( pdf_i[0] * prob_s[0] / prob_x )\n",
    "    prob_s1_x.append( pdf_i[1] * prob_s[1] / prob_x )\n",
    "\n",
    "probs = zip(data, prob_s0_x, prob_s1_x)\n",
    "for p in probs:\n",
    "    print(p[0])\n",
    "    print(\"Probability of coming from S_1 = \" + str(p[1]))\n",
    "    print(\"Probability of coming from S_2 = \" + str(p[2]))\n",
    "    print()\n"
   ]
  },
  {
   "cell_type": "markdown",
   "metadata": {},
   "source": [
    "It seems that generally, the data points are confidently assigned to a cluster."
   ]
  },
  {
   "cell_type": "markdown",
   "metadata": {},
   "source": [
    "f) Having computed `P(S_j | X_i)`, update the estimates of `mean_j`, `var_j`, and `P(S_j)`. How different are these values from the original ones you got from K means? briefly comment."
   ]
  },
  {
   "cell_type": "code",
   "execution_count": 8,
   "metadata": {},
   "outputs": [
    {
     "name": "stdout",
     "output_type": "stream",
     "text": [
      "P(S_1) = 0.8,  P(S_2) = 0.2\n",
      "mean_1 = 4.945501856495912,  mean_2 = 7.042593298569119\n",
      "var_1 = 0.8641496081530786,  var_2 = 4.538492513539249\n"
     ]
    }
   ],
   "source": [
    "prob_c = [sum(prob_s0_x)/ len(prob_s0_x), ... ]\n",
    "mean = [sum([x[0] * x[1] for x in zip(prob_s0_x, data)]) / sum(prob_s0_x),\n",
    "        sum([x[0] * x[1] for x in zip(prob_s1_x, data)]) / sum(prob_s1_x) ]\n",
    "\n",
    "var = [sum([x[0] * (x[1] - mean[0]) ** 2 for x in zip(prob_s0_x, data)]) / sum(prob_s0_x),\n",
    "       sum([x[0] * (x[1] - mean[1]) ** 2 for x in zip(prob_s1_x, data)]) / sum(prob_s1_x)]\n",
    "\n",
    "print(\"P(S_1) = \" + str(prob_s[0]) + \",  P(S_2) = \" + str(prob_s[1]))\n",
    "print(\"mean_1 = \" + str(mean[0]) + \",  mean_2 = \" + str(mean[1]))\n",
    "print(\"var_1 = \" + str(var[0]) + \",  var_2 = \" + str(var[1]))"
   ]
  },
  {
   "cell_type": "markdown",
   "metadata": {},
   "source": [
    "Apart from mean of cluster 1, it seems that the values are pretty different compared to the values from KMeans. Additionally, the variance seems to be much more bigger as well for cluster 2."
   ]
  },
  {
   "cell_type": "markdown",
   "metadata": {},
   "source": [
    "g) Update `P(S_j | X_i)`. Comment on any differences or lack thereof you observe."
   ]
  },
  {
   "cell_type": "code",
   "execution_count": 9,
   "metadata": {},
   "outputs": [
    {
     "name": "stdout",
     "output_type": "stream",
     "text": [
      "point =  4.883261377400749\n",
      "probability of observing that point if it came from cluster 0 =  0.46046290762994846\n",
      "probability of observing that point if it came from cluster 1 =  0.07849521726719054\n",
      "point =  4.590678154158948\n",
      "probability of observing that point if it came from cluster 0 =  0.4243370603117311\n",
      "probability of observing that point if it came from cluster 1 =  0.07596611990581281\n",
      "point =  5.5532393628823655\n",
      "probability of observing that point if it came from cluster 0 =  0.36051229471000523\n",
      "probability of observing that point if it came from cluster 1 =  0.08329405517007388\n",
      "point =  6.95548312227602\n",
      "probability of observing that point if it came from cluster 0 =  0.03086956688497921\n",
      "probability of observing that point if it came from cluster 1 =  0.08788574657134529\n",
      "point =  4.512723447615677\n",
      "probability of observing that point if it came from cluster 0 =  0.40724650833194304\n",
      "probability of observing that point if it came from cluster 1 =  0.075253351268652\n",
      "point =  8.72021184178577\n",
      "probability of observing that point if it came from cluster 0 =  3.319307224155064e-05\n",
      "probability of observing that point if it came from cluster 1 =  0.08209721888790295\n",
      "point =  5.781617494797077\n",
      "probability of observing that point if it came from cluster 0 =  0.28909085260754325\n",
      "probability of observing that point if it came from cluster 1 =  0.08457377561422659\n",
      "point =  4.5235295253982555\n",
      "probability of observing that point if it came from cluster 0 =  0.4097729001018234\n",
      "probability of observing that point if it came from cluster 1 =  0.07535308176299768\n",
      "point =  2.7630243884657975\n",
      "probability of observing that point if it came from cluster 0 =  0.01902118441246602\n",
      "probability of observing that point if it came from cluster 1 =  0.05635353798658984\n",
      "point =  5.3673642458627056\n",
      "probability of observing that point if it came from cluster 0 =  0.409798354850449\n",
      "probability of observing that point if it came from cluster 1 =  0.08211318637435991\n",
      "4.883261377400749\n",
      "Probability of coming from S_1 = 0.9591244585020416\n",
      "Probability of coming from S_2 = 0.04087554149795843\n",
      "\n",
      "4.590678154158948\n",
      "Probability of coming from S_1 = 0.9571615041472786\n",
      "Probability of coming from S_2 = 0.04283849585272139\n",
      "\n",
      "5.5532393628823655\n",
      "Probability of coming from S_1 = 0.9453932378543447\n",
      "Probability of coming from S_2 = 0.054606762145655297\n",
      "\n",
      "6.95548312227602\n",
      "Probability of coming from S_1 = 0.5841972109543576\n",
      "Probability of coming from S_2 = 0.4158027890456423\n",
      "\n",
      "4.512723447615677\n",
      "Probability of coming from S_1 = 0.9558434384577537\n",
      "Probability of coming from S_2 = 0.044156561542246314\n",
      "\n",
      "8.72021184178577\n",
      "Probability of coming from S_1 = 0.0016146455455725585\n",
      "Probability of coming from S_2 = 0.9983853544544276\n",
      "\n",
      "5.781617494797077\n",
      "Probability of coming from S_1 = 0.9318468520684651\n",
      "Probability of coming from S_2 = 0.06815314793153487\n",
      "\n",
      "4.5235295253982555\n",
      "Probability of coming from S_1 = 0.9560481113525289\n",
      "Probability of coming from S_2 = 0.043951888647471134\n",
      "\n",
      "2.7630243884657975\n",
      "Probability of coming from S_1 = 0.5744920589174568\n",
      "Probability of coming from S_2 = 0.4255079410825431\n",
      "\n",
      "5.3673642458627056\n",
      "Probability of coming from S_1 = 0.9522960139124463\n",
      "Probability of coming from S_2 = 0.047703986087553635\n",
      "\n"
     ]
    }
   ],
   "source": [
    "prob_s0_x = [] # P(S_0 | X_i)\n",
    "prob_s1_x = [] # P(S_1 | X_i)\n",
    "prob_x = [] # P(X_i)\n",
    "\n",
    "k = 2\n",
    "\n",
    "for p in data:\n",
    "    print(\"point = \", p)\n",
    "    pdf_i = []\n",
    "\n",
    "    for j in range(k):\n",
    "        # P(X_i | S_j)\n",
    "        pdf_i.append(norm.pdf(p, mean[j], var[j]))\n",
    "        print(\"probability of observing that point if it came from cluster \" + str(j) + \" = \", pdf_i[j])\n",
    "        # P(S_j) already computed\n",
    "        prob_s[j]\n",
    "\n",
    "    # P(X_i) = P(S_0)P(X_i | S_0) + P(S_1)P(X_i | S_1)\n",
    "    prob_x = prob_s[0] * pdf_i[0] + prob_s[1] * pdf_i[1]\n",
    "\n",
    "    # P(S_j | X_i) = P(X_i | S_j)P(S_j) / P(X_i)\n",
    "    prob_s0_x.append( pdf_i[0] * prob_s[0] / prob_x )\n",
    "    prob_s1_x.append( pdf_i[1] * prob_s[1] / prob_x )\n",
    "\n",
    "probs = zip(data, prob_s0_x, prob_s1_x)\n",
    "for p in probs:\n",
    "    print(p[0])\n",
    "    print(\"Probability of coming from S_1 = \" + str(p[1]))\n",
    "    print(\"Probability of coming from S_2 = \" + str(p[2]))\n",
    "    print()\n"
   ]
  },
  {
   "cell_type": "markdown",
   "metadata": {},
   "source": [
    "Although the probability of the confidence lowered a bit, I think this is showing the adaptability of potential overlapping clusters from the GMM model."
   ]
  },
  {
   "cell_type": "markdown",
   "metadata": {},
   "source": [
    "h) Use `P(S_j | X_i)` to create a hard assignment - label each point as belonging to a specific cluster (0 or 1)"
   ]
  },
  {
   "cell_type": "code",
   "execution_count": 12,
   "metadata": {},
   "outputs": [
    {
     "name": "stdout",
     "output_type": "stream",
     "text": [
      "[4.883261377400749, 4.590678154158948, 5.5532393628823655, 6.95548312227602, 4.512723447615677, 8.72021184178577, 5.781617494797077, 4.5235295253982555, 2.7630243884657975, 5.3673642458627056]\n",
      "\n",
      "Cluster 0 Points: [4.883261377400749, 4.590678154158948, 5.5532393628823655, 4.512723447615677, 5.781617494797077, 4.5235295253982555, 2.7630243884657975, 5.3673642458627056]\n",
      "Cluster 1 Points: [6.95548312227602, 8.72021184178577]\n"
     ]
    }
   ],
   "source": [
    "print(data)\n",
    "hard_assignments = [[], []]\n",
    "\n",
    "for d, p in zip(data, prob_s0_x):\n",
    "    if random.random() <= p: hard_assignments[0].append(d)\n",
    "    else: hard_assignments[1].append(d)\n",
    "\n",
    "print()\n",
    "print(f\"Cluster 0 Points: {hard_assignments[0]}\")\n",
    "print(f\"Cluster 1 Points: {hard_assignments[1]}\")"
   ]
  },
  {
   "cell_type": "code",
   "execution_count": null,
   "metadata": {},
   "outputs": [],
   "source": []
  }
 ],
 "metadata": {
  "kernelspec": {
   "display_name": "Python 3 (ipykernel)",
   "language": "python",
   "name": "python3"
  },
  "language_info": {
   "codemirror_mode": {
    "name": "ipython",
    "version": 3
   },
   "file_extension": ".py",
   "mimetype": "text/x-python",
   "name": "python",
   "nbconvert_exporter": "python",
   "pygments_lexer": "ipython3",
   "version": "3.11.5"
  },
  "vscode": {
   "interpreter": {
    "hash": "e7370f93d1d0cde622a1f8e1c04877d8463912d04d973331ad4851f04de6915a"
   }
  }
 },
 "nbformat": 4,
 "nbformat_minor": 4
}
