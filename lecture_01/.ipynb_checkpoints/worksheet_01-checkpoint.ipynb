{
 "cells": [
  {
   "attachments": {},
   "cell_type": "markdown",
   "metadata": {},
   "source": [
    "# Worksheet 01\n",
    "\n",
    "Name: Jin Young Bang\n",
    "UID: U26738680\n",
    "\n",
    "### Topics\n",
    "\n",
    "- Git\n",
    "\n",
    "## Prerequisites (installations)\n",
    "\n",
    "#### This is your checklist:\n",
    "\n",
    "- [x] Access to terminal\n",
    "- [x] Install Git\n",
    "- [x] Sign up for a GitHub account\n",
    "- [x] Choose editor\n",
    "- [x] Set up ssh keys\n",
    "- [x] Configure git\n",
    "\n",
    "### Step 1: Work Environment:  Access to Terminal \n",
    "\n",
    "- Mac/Linux: use **Terminal**\n",
    "- Windows:\n",
    "\t- Option 1:  [Power Shell](https://www.digitalcitizen.life/simple-questions-what-powershell-what-can-you-do-it)\n",
    "\t- Option 2:  Git Bash (recommended)\n",
    "\t\n",
    "### Step 2: Install Git\n",
    "\n",
    "- Mac:  \n",
    "\t- [Git](https://git-scm.com/download/mac)\n",
    "- Windows:  \n",
    "\t- [Git for Windows (Git Bash)](https://gitforwindows.org/)\n",
    "- Linux:\n",
    "\t- [Install Git on Linux](https://www.atlassian.com/git/tutorials/install-git#linux)\n",
    "\n",
    "Confirm Git is installed by typing `git --version` on your terminal\n",
    "\n",
    "### Step 3: Sign up for a GitHub Account\n",
    " \n",
    " Go to [github.com](https://github.com/)\n",
    "\n",
    "### Step 4: Choose a Graphical Editor\n",
    "\n",
    "- Try Visual Studio Code\n",
    "\t* [Visual Studio Code](https://visualstudio.microsoft.com/downloads/)\n",
    "- OR one of these other editors\n",
    "\t* [Sublime Text 3](https://www.sublimetext.com/)\n",
    "\t* [Atom](https://atom.io/) \n",
    "\t* [Notepad++](https://notepad-plus-plus.org/) (for Windows)\n",
    "\n",
    "### Step 5: SSH Setup\n",
    "\n",
    "#### Mac & Linux Users\n",
    "\n",
    "Go to home directory (in terminal)\n",
    "\n",
    "```bash\n",
    "% cd ~\n",
    "% pwd\n",
    "/Users/gallettilance\n",
    "```\n",
    "\n",
    "Go to `.ssh` directory\n",
    "\n",
    "```bash\n",
    "% pwd\n",
    "/Users/gallettilance\n",
    "% cd .ssh\n",
    "% pwd\n",
    "/Users/gallettilance/.ssh \n",
    "```\n",
    "\n",
    "**Note:**  If you do not have the `.ssh` directory, you can create it\n",
    "\n",
    "- if you are in your home directory:\n",
    "\t- <kbd> mkdir .ssh </kbd>  \n",
    "- if you are not in your home directory:\n",
    "\t- <kbd> mkdir ~/.ssh </kbd>  \n",
    "\n",
    "Generate `id_rsa` keypair files if needed\n",
    "\n",
    "- **Note:**  these `id_rsa` files contain a special password for your computer to be connect to network services (Ex:  GitHub, AWS).\n",
    "- Check to see if these files exist by typing <kbd> ls -alt</kbd>\n",
    "- If you do not have these two files (`id_rsa` and `id_rsa.pub`), create them by typing:  \n",
    "\t- <kbd> ssh-keygen</kbd>\n",
    "\t- Hit  <kbd> enter  </kbd> **3 times**\n",
    "\n",
    "```bash\n",
    "% pwd \n",
    "/Users/gallettilance/.ssh\n",
    "% ls\n",
    "% ssh-keygen\n",
    "Generating public/private rsa key pair.\n",
    "Enter file in which to save the key (/Users/gallettilance/.ssh/id_rsa): \n",
    "Enter passphrase (empty for no passphrase): \n",
    "Enter same passphrase again: \n",
    "Your identification has been saved in /Users/gallettilance/.ssh/id_rsa.\n",
    "Your public key has been saved in /Users/gallettilance/.ssh/id_rsa.pub.\n",
    "The key fingerprint is:\n",
    "SHA256:jmDJes1qOzDi8KynXLGQ098JMSRnbIyt0w7vSgEsr2E gallettilance@RESHAMAs-MacBook-Pro.local\n",
    "The key's randomart image is:\n",
    "+---[RSA 2048]----+\n",
    "|   .=+           |\n",
    "|.  .==           |\n",
    "|.o  +o           |\n",
    "|..+= oo          |\n",
    "|.E.+X.  S        |\n",
    "|+o=o=*oo.        |\n",
    "|++.*o.+o.        |\n",
    "|..*.oo           |\n",
    "|o= o+o           |\n",
    "+----[SHA256]-----+\n",
    "% ls\n",
    "total 16\n",
    "-rw-------  1   1675 Dec 17 12:20 id_rsa\n",
    "-rw-r--r--  1    422 Dec 17 12:20 id_rsa.pub\n",
    "% \n",
    "```\n",
    "\n",
    "Navigate to the `.ssh` directory\n",
    "\n",
    "<kbd> cd ~/.ssh </kbd>  \n",
    "\n",
    "open `id_rsa.pub` using your editor of choice and copy its contents. Add `ssh` key to GitHub by following these steps:\n",
    "\n",
    "- go to your [GitHub account](https://github.com/) (create one if you don't have one, and save your user name and password somewhere easily accessible for you.)\n",
    "- click on your avatar/profile picture (upper right of screen)\n",
    "- go to `Settings`\n",
    "- on left of screen, select `SSH and GPG keys`\n",
    "- Select <kbd> New SSH key </kbd>\n",
    "- for \"Title\":  entitle it  \"GitHub key\"\n",
    "- for \"Key\":  paste key from clipboard here\n",
    "- click <kbd> Add SSH key </kbd>\n",
    "- save, exit, confirm GitHub password as requested\n",
    "\n",
    "#### Windows Users\n",
    "\n",
    "Follow [How to Create SSH Keys with PuTTY on Windows](https://www.digitalocean.com/docs/droplets/how-to/add-ssh-keys/create-with-putty/)\n",
    "\n",
    "### Step 6: Configure Git\n",
    "\n",
    "#### Configure user name and email (lets Git know who you are)\n",
    "\n",
    "<kbd> git config --global user.name \"First Last\"  </kbd>  \n",
    "<kbd> git config --global user.email \"myname@email.com\"  </kbd>  \n",
    "\n",
    "To verify these additions, type:  \n",
    "<kbd> git config --list  </kbd>  \n",
    "\n",
    "#### Default Editor\n",
    "\n",
    "The default editor will be [Vim](https://vim.rtorr.com/). You may want to look up how to edit, save, and close vim as this can't be done with just point and click (you must use the vim commands)."
   ]
  },
  {
   "cell_type": "markdown",
   "metadata": {},
   "source": [
    "### Git / GitHub\n",
    "\n",
    "a) what is the difference between git and github?"
   ]
  },
  {
   "cell_type": "markdown",
   "metadata": {},
   "source": [
    "- git - version control system\n",
    "- github - website to backup and host your files"
   ]
  },
  {
   "cell_type": "markdown",
   "metadata": {},
   "source": [
    "b) what command would you use to copy a repo locally?"
   ]
  },
  {
   "cell_type": "markdown",
   "metadata": {},
   "source": [
    "`git clone <HTTPS or SSH url of Repo>`"
   ]
  },
  {
   "cell_type": "markdown",
   "metadata": {},
   "source": [
    "c) what button would you use to make a copy of a repo in GitHub?"
   ]
  },
  {
   "cell_type": "markdown",
   "metadata": {},
   "source": [
    "Fork button"
   ]
  },
  {
   "attachments": {},
   "cell_type": "markdown",
   "metadata": {},
   "source": [
    "d) let's say you have a copy of a repo in GitHub but that repo changes, does your copy on your laptop change too? why / why not?"
   ]
  },
  {
   "cell_type": "markdown",
   "metadata": {},
   "source": [
    "No. The copy on your laptop is a local copy, which means that the last most updated change is the one that exists."
   ]
  },
  {
   "cell_type": "markdown",
   "metadata": {},
   "source": [
    "e) what are the three commands you use to create a new save point in your git repo and back it up to GitHub?"
   ]
  },
  {
   "cell_type": "markdown",
   "metadata": {},
   "source": [
    "1. `git add <files>`\n",
    "2. `git commit -m \"<commit message>\"`\n",
    "3. `git push`"
   ]
  },
  {
   "attachments": {},
   "cell_type": "markdown",
   "metadata": {},
   "source": [
    "f) how would you make your local and remote copies change so that they have the most up-to-date version of the repo they are copied from?"
   ]
  },
  {
   "cell_type": "markdown",
   "metadata": {},
   "source": [
    "1. `git pull upstream main` or `git fetch`\n",
    "2. `git push upstream main` (`git rebase` is another option)"
   ]
  },
  {
   "cell_type": "markdown",
   "metadata": {},
   "source": [
    "g) why are there sometimes conflicts between copied repos / branches? How do you resolve them?"
   ]
  },
  {
   "cell_type": "markdown",
   "metadata": {},
   "source": [
    "There are sometimes conflict between copied repos / branches because if multiple contributors are working on the same codebase/feature concurrently, their changes could conflict with each other. To resolve them, you could either perform a rebase or a merge operation depending on the use case."
   ]
  },
  {
   "cell_type": "markdown",
   "metadata": {},
   "source": [
    "h) describe all the steps needed to make a PR to contribute your notes to the class repository."
   ]
  },
  {
   "cell_type": "markdown",
   "metadata": {},
   "source": [
    "1. Fork the class reposistory\n",
    "2. `git clone <class repository link>`\n",
    "3. Add whatever notes you have in the correct folder\n",
    "4. `git add <file of notes>`\n",
    "5. `git commit -m <commit message>` to describe the purpose of the commit\n",
    "6. `git push`\n",
    "7. Click the Pull Request button on the class repo, check if the branch can be merged to a base (ideally `main` branch), then merge it."
   ]
  },
  {
   "cell_type": "markdown",
   "metadata": {},
   "source": [
    "i) Write here some other commands we used in class and what they mean / how to use them:"
   ]
  },
  {
   "cell_type": "markdown",
   "metadata": {},
   "source": [
    "- `git init`: initializes a new Git repository in current directory\n",
    "- `git log`: view commit history\n",
    "- `git push`: pushes local branch and commits to a remote repository\n",
    "- `git fetch`: fetches change from remote repository\n",
    "- `git remote`: lists all the remote repositories\n",
    "- `git pull`: combines fetch and merge to fetch changes from remote and merges them into current branch\n",
    "- `git rebase`: reapplies local commits on top of a different branch"
   ]
  },
  {
   "cell_type": "code",
   "execution_count": null,
   "metadata": {},
   "outputs": [],
   "source": []
  }
 ],
 "metadata": {
  "kernelspec": {
   "display_name": "Python 3 (ipykernel)",
   "language": "python",
   "name": "python3"
  },
  "language_info": {
   "codemirror_mode": {
    "name": "ipython",
    "version": 3
   },
   "file_extension": ".py",
   "mimetype": "text/x-python",
   "name": "python",
   "nbconvert_exporter": "python",
   "pygments_lexer": "ipython3",
   "version": "3.11.5"
  },
  "vscode": {
   "interpreter": {
    "hash": "76ca05dc3ea24b2e3b98cdb7774adfbb40773424bf5109b477fd793f623715af"
   }
  }
 },
 "nbformat": 4,
 "nbformat_minor": 4
}
